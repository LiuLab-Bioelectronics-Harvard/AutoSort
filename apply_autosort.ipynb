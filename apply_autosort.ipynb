{
 "cells": [
  {
   "cell_type": "markdown",
   "id": "28f6fdde",
   "metadata": {},
   "source": [
    "# Utilize AutoSort in chronic recordings"
   ]
  },
  {
   "cell_type": "markdown",
   "id": "cb73977c",
   "metadata": {},
   "source": [
    "In this tutorial, we demonstrate how to utilize a trained AutoSort model with late-stage recordings\n",
    "\n",
    "For explanatory data analysis, we provide one days recording on 0416, which can be downloaded here."
   ]
  },
  {
   "cell_type": "code",
   "execution_count": 1,
   "id": "97a8e6f4",
   "metadata": {},
   "outputs": [],
   "source": [
    "from autosort_neuron import *\n",
    "import warnings\n",
    "warnings.filterwarnings(\"ignore\")"
   ]
  },
  {
   "cell_type": "markdown",
   "id": "61c1fc7a",
   "metadata": {},
   "source": [
    "First, we set electrode probe of the new recording data."
   ]
  },
  {
   "cell_type": "code",
   "execution_count": 2,
   "id": "067f4660",
   "metadata": {},
   "outputs": [],
   "source": [
    "positions=np.array([\n",
    "                [150, 250], ### electrode 1\n",
    "                [150,200], ### electrode 2\n",
    "                [50, 0], ### electrode 3\n",
    "                [50, 50],\n",
    "                [50, 100], \n",
    "                [0, 100],\n",
    "                [0, 50], \n",
    "                [0, 0],\n",
    "                [650, 0], \n",
    "                [650, 50],\n",
    "                [650, 100], \n",
    "                [600, 100],\n",
    "                [600, 50], \n",
    "                [600, 0],\n",
    "                [500, 200],\n",
    "                [500, 250],\n",
    "                [500, 300],\n",
    "                [450, 300],\n",
    "                [450, 250], \n",
    "                [450, 200],\n",
    "                [350, 400], \n",
    "                [350, 450],\n",
    "                [350, 500], \n",
    "                [300, 500],\n",
    "                [300, 450], \n",
    "                [300, 400], \n",
    "                [200, 200],\n",
    "                [200, 250],\n",
    "                [200, 300],\n",
    "                [150, 300]\n",
    "                    ])\n",
    "mesh_probe = create_mesh_probe(positions=positions,num_all_channels=positions.shape[0])\n",
    "\n",
    "### raw data path\n",
    "raw_data_path = './raw_data/'\n",
    "\n",
    "### file folder name to read\n",
    "date_id_all=['0416']"
   ]
  },
  {
   "cell_type": "markdown",
   "id": "33b4eea6",
   "metadata": {},
   "source": [
    "Load raw data recording from Intan system"
   ]
  },
  {
   "cell_type": "code",
   "execution_count": 3,
   "id": "fa671c59",
   "metadata": {},
   "outputs": [],
   "source": [
    "for i in date_id_all:\n",
    "    save_folder_name = i\n",
    "    data_folder_all = f\"./processed_data/Ephys_concat_{save_folder_name}/\"\n",
    "    if os.path.exists(data_folder_all) == False:\n",
    "        _, _ = read_data_folder(\n",
    "            data_folder_all,\n",
    "            [i],\n",
    "            raw_data_path,\n",
    "            mesh_probe,\n",
    "        )"
   ]
  },
  {
   "cell_type": "markdown",
   "id": "9177f34f",
   "metadata": {},
   "source": [
    "Generate input of AutoSort."
   ]
  },
  {
   "cell_type": "code",
   "execution_count": 4,
   "id": "7d97e34e",
   "metadata": {},
   "outputs": [],
   "source": [
    "save_pth = './AutoSort_data/'\n",
    "day_pth = './processed_data/'\n",
    "raw_data_path = './raw_data/'\n",
    "\n",
    "freq_max=3000\n",
    "freq_min=300\n",
    "\n",
    "left_sample=10\n",
    "right_sample=20\n"
   ]
  },
  {
   "cell_type": "code",
   "execution_count": 5,
   "id": "04f77f27",
   "metadata": {},
   "outputs": [],
   "source": [
    "generate_autosort_input(date_id_all,\n",
    "                            raw_data_path,\n",
    "                            save_pth,\n",
    "                            day_pth,\n",
    "                            left_sample,\n",
    "                            right_sample,\n",
    "                            freq_min,\n",
    "                            freq_max,\n",
    "                            mesh_probe,\n",
    "                            mode='test'\n",
    "                            )"
   ]
  },
  {
   "cell_type": "markdown",
   "id": "54f04a1f",
   "metadata": {},
   "source": [
    "Apply AutoSort"
   ]
  },
  {
   "cell_type": "code",
   "execution_count": 6,
   "id": "5c3a0dda",
   "metadata": {},
   "outputs": [],
   "source": [
    "### group ID of each electrode 1,2,3...\n",
    "electrode_group=[1, 1, 0, 0, 0, 0, 0, 0, 4, 4, 4, 4, 4, 4, 3, 3, 3, 3, 3, 3, 2, 2, 2, 2, 2, 2, 1, 1, 1, 1]\n",
    "electrode_position=np.hstack([positions,np.array(electrode_group).reshape(-1,1)])"
   ]
  },
  {
   "cell_type": "code",
   "execution_count": 7,
   "id": "695bfe24",
   "metadata": {},
   "outputs": [],
   "source": [
    "args=config()\n",
    "args.day_id_str=['0411','0420'] ### all days\n",
    "args.cluster_path='./AutoSort_data/' ### path of input data\n",
    "args.set_time=0  ### set 0411 data as training data\n",
    "args.test_time=[1] ### set 0420 data as testing data\n",
    "args.group=np.arange(30)  ### all electrodes\n",
    "args.samplepoints=left_sample+right_sample ### 30 points for each waveform\n",
    "args.sensor_positions_all=electrode_position\n",
    "args.mode='test'"
   ]
  },
  {
   "cell_type": "code",
   "execution_count": 8,
   "id": "a5d77eea",
   "metadata": {},
   "outputs": [
    {
     "name": "stdout",
     "output_type": "stream",
     "text": [
      "---------------------------------- SEED ALL ---------------------------------- \n",
      "                           Seed Num :   0                                \n",
      "---------------------------------- SEED ALL ---------------------------------- \n",
      "<autosort_neuron.config.config object at 0x14d916644880>\n",
      "pred_location (1563742, 3)\n",
      "pred_location (1389635, 3)\n"
     ]
    },
    {
     "name": "stderr",
     "output_type": "stream",
     "text": [
      "100%|██████████| 2715/2715 [01:03<00:00, 42.51it/s]\n"
     ]
    }
   ],
   "source": [
    "run(args)"
   ]
  },
  {
   "cell_type": "markdown",
   "id": "7ff87e55",
   "metadata": {},
   "source": [
    "AutoSort results are saved in ./model_save/train_day0411_0/offline_results/[test date]/.\n",
    "\n",
    "We read the results through `read_AutoSort_data` function"
   ]
  },
  {
   "cell_type": "code",
   "execution_count": null,
   "id": "2f215c55",
   "metadata": {},
   "outputs": [],
   "source": [
    "date_id_read='0420'\n",
    "\n",
    "date_id_all=['0420'] \n",
    "save_pth = './AutoSort_data/'\n",
    "day_pth = './processed_data/'\n",
    "raw_data_path = './raw_data/'\n",
    "\n",
    "freq_max=3000\n",
    "freq_min=300\n",
    "\n",
    "left_sample=10\n",
    "right_sample=20\n"
   ]
  },
  {
   "cell_type": "code",
   "execution_count": null,
   "id": "de6e1e59",
   "metadata": {},
   "outputs": [],
   "source": [
    "results_data_path = f'./AutoSort_data/model_save/train_day0411_0/offline_results/{date_id_read}/'\n",
    "(sorting,  \n",
    " trial_start, \n",
    " trial_end,  \n",
    " cont_trigger_all_all,\n",
    " recording_cmr) = read_AutoSort_data(date_id_read,\n",
    "                                     day_pth,\n",
    "                                     results_data_path, \n",
    "                                     save_pth=save_pth,\n",
    "                                     Keep_id=Keep_id,\n",
    "                                     unit_list_all=unit_list_all)  "
   ]
  },
  {
   "cell_type": "markdown",
   "id": "361fde43",
   "metadata": {},
   "source": [
    "Extract waveforms"
   ]
  },
  {
   "cell_type": "code",
   "execution_count": null,
   "id": "913fadfe",
   "metadata": {},
   "outputs": [],
   "source": [
    "waveform_folder = results_data_path+ 'waveforms'\n",
    "# shutil.rmtree(waveform_folder)\n",
    "\n",
    "we = spikeinterface.extract_waveforms(recording_cmr, sorting, waveform_folder,\n",
    "    load_if_exists=False,\n",
    "    ms_before=1, ms_after=2., max_spikes_per_unit=1000000,\n",
    "    n_jobs=-1, chunk_size=30000)\n",
    "\n",
    "mesh_probe = create_mesh_probe(30)\n",
    "we.recording.set_probe(mesh_probe, in_place=True)"
   ]
  },
  {
   "cell_type": "markdown",
   "id": "4ef9488b",
   "metadata": {},
   "source": [
    "Plot spiking patterns"
   ]
  },
  {
   "cell_type": "markdown",
   "id": "a9cf56e0",
   "metadata": {},
   "source": [
    "sorting_day_split(sorting, [date_id_all], day_length, results_data_path, \n",
    "                  sorting_save_name='firings_inlier')"
   ]
  },
  {
   "cell_type": "markdown",
   "id": "62682d9e",
   "metadata": {},
   "source": [
    "Plot ISI"
   ]
  },
  {
   "cell_type": "code",
   "execution_count": null,
   "id": "e2c2ca69",
   "metadata": {},
   "outputs": [],
   "source": [
    "fig,ax = plt.subplots(int(ceil(sorting.unit_ids.shape[0]/4)),4,figsize=(10,10))\n",
    "sw.plot_isi_distribution(sorting, window_ms=200.0, bin_ms=1.0,axes=ax)"
   ]
  },
  {
   "cell_type": "markdown",
   "id": "41fdddf9",
   "metadata": {},
   "source": [
    "Plot units template"
   ]
  },
  {
   "cell_type": "code",
   "execution_count": null,
   "id": "6e56bf1d",
   "metadata": {},
   "outputs": [],
   "source": [
    "we._template_cache={}\n",
    "sorting_unit_show(we, recording_cmr, sorting, results_data_path,waveform_folder)"
   ]
  }
 ],
 "metadata": {
  "kernelspec": {
   "display_name": "Python 3 (ipykernel)",
   "language": "python",
   "name": "python3"
  },
  "language_info": {
   "codemirror_mode": {
    "name": "ipython",
    "version": 3
   },
   "file_extension": ".py",
   "mimetype": "text/x-python",
   "name": "python",
   "nbconvert_exporter": "python",
   "pygments_lexer": "ipython3",
   "version": "3.9.20"
  }
 },
 "nbformat": 4,
 "nbformat_minor": 5
}
