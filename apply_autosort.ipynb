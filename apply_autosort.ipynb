{
 "cells": [
  {
   "cell_type": "markdown",
   "id": "28f6fdde",
   "metadata": {},
   "source": [
    "# Utilize AutoSort in chronic recordings"
   ]
  },
  {
   "cell_type": "markdown",
   "id": "cb73977c",
   "metadata": {},
   "source": [
    "In this tutorial, we demonstrate how to utilize a trained AutoSort model with late-stage recordings\n",
    "\n",
    "For explanatory data analysis, we provide one days recording on April 20th, which can be downloaded here."
   ]
  },
  {
   "cell_type": "code",
   "execution_count": 9,
   "id": "97a8e6f4",
   "metadata": {},
   "outputs": [],
   "source": [
    "from autosort_neuron import *"
   ]
  },
  {
   "cell_type": "markdown",
   "id": "61c1fc7a",
   "metadata": {},
   "source": [
    "### First, we read the new recording data."
   ]
  },
  {
   "cell_type": "code",
   "execution_count": 2,
   "id": "067f4660",
   "metadata": {},
   "outputs": [],
   "source": [
    "positions=np.array([\n",
    "                [150, 250], ### electrode 1\n",
    "                [150,200], ### electrode 2\n",
    "                [50, 0], ### electrode 3\n",
    "                [50, 50],\n",
    "                [50, 100], \n",
    "                [0, 100],\n",
    "                [0, 50], \n",
    "                [0, 0],\n",
    "                [650, 0], \n",
    "                [650, 50],\n",
    "                [650, 100], \n",
    "                [600, 100],\n",
    "                [600, 50], \n",
    "                [600, 0],\n",
    "                [500, 200],\n",
    "                [500, 250],\n",
    "                [500, 300],\n",
    "                [450, 300],\n",
    "                [450, 250], \n",
    "                [450, 200],\n",
    "                [350, 400], \n",
    "                [350, 450],\n",
    "                [350, 500], \n",
    "                [300, 500],\n",
    "                [300, 450], \n",
    "                [300, 400], \n",
    "                [200, 200],\n",
    "                [200, 250],\n",
    "                [200, 300],\n",
    "                [150, 300]\n",
    "                    ])\n",
    "mesh_probe = create_mesh_probe(positions=positions,num_all_channels=positions.shape[0])\n",
    "\n",
    "### raw data path\n",
    "raw_data_path = './raw_data/'\n",
    "\n",
    "### file folder name to read\n",
    "date_id_all=['0420']"
   ]
  },
  {
   "cell_type": "code",
   "execution_count": 3,
   "id": "fa671c59",
   "metadata": {},
   "outputs": [],
   "source": [
    "for i in date_id_all:\n",
    "    save_folder_name = i\n",
    "    data_folder_all = f\"./processed_data/Ephys_concat_{save_folder_name}/\"\n",
    "    if os.path.exists(data_folder_all) == False:\n",
    "        _, _ = read_data_folder(\n",
    "            data_folder_all,\n",
    "            [i],\n",
    "            raw_data_path,\n",
    "            mesh_probe,\n",
    "        )"
   ]
  },
  {
   "cell_type": "markdown",
   "id": "9177f34f",
   "metadata": {},
   "source": [
    "### Now, we can apply AutoSort"
   ]
  },
  {
   "cell_type": "code",
   "execution_count": 4,
   "id": "7d97e34e",
   "metadata": {},
   "outputs": [],
   "source": [
    "date_id_all=['0420'] \n",
    "save_pth = './AutoSort_data/'\n",
    "day_pth = './processed_data/'\n",
    "raw_data_path = './raw_data/'\n",
    "\n",
    "freq_max=3000\n",
    "freq_min=300\n",
    "\n",
    "left_sample=10\n",
    "right_sample=20\n"
   ]
  },
  {
   "cell_type": "code",
   "execution_count": 5,
   "id": "04f77f27",
   "metadata": {},
   "outputs": [],
   "source": [
    "generate_autosort_input(date_id_all,\n",
    "                            raw_data_path,\n",
    "                            save_pth,\n",
    "                            day_pth,\n",
    "                            left_sample,\n",
    "                            right_sample,\n",
    "                            freq_min,\n",
    "                            freq_max,\n",
    "                            mesh_probe,\n",
    "                            mode='test'\n",
    "                            )"
   ]
  },
  {
   "cell_type": "code",
   "execution_count": 6,
   "id": "5c3a0dda",
   "metadata": {},
   "outputs": [],
   "source": [
    "### group ID of each electrode 1,2,3...\n",
    "electrode_group=[1, 1, 0, 0, 0, 0, 0, 0, 4, 4, 4, 4, 4, 4, 3, 3, 3, 3, 3, 3, 2, 2, 2, 2, 2, 2, 1, 1, 1, 1]\n",
    "electrode_position=np.hstack([positions,np.array(electrode_group).reshape(-1,1)])"
   ]
  },
  {
   "cell_type": "code",
   "execution_count": 7,
   "id": "695bfe24",
   "metadata": {},
   "outputs": [],
   "source": [
    "args=config()\n",
    "args.day_id_str=['0411','0420'] ### all days\n",
    "args.cluster_path='./AutoSort_data/' ### path of input data\n",
    "args.set_time=0  ### set 0411 data as training data\n",
    "args.test_time=[1] ### set 0420 data as testing data\n",
    "args.group=np.arange(30)  ### all electrodes\n",
    "args.samplepoints=left_sample+right_sample ### 30 points for each waveform\n",
    "args.sensor_positions_all=electrode_position\n",
    "args.mode='test'"
   ]
  },
  {
   "cell_type": "code",
   "execution_count": 10,
   "id": "a5d77eea",
   "metadata": {},
   "outputs": [
    {
     "name": "stdout",
     "output_type": "stream",
     "text": [
      "---------------------------------- SEED ALL ---------------------------------- \n",
      "                           Seed Num :   0                                \n",
      "---------------------------------- SEED ALL ---------------------------------- \n",
      "<autosort_neuron.config.config object at 0x146cb2357d60>\n",
      "pred_location (1563742, 3)\n"
     ]
    }
   ],
   "source": [
    "run(args)"
   ]
  }
 ],
 "metadata": {
  "kernelspec": {
   "display_name": "Python 3 (ipykernel)",
   "language": "python",
   "name": "python3"
  },
  "language_info": {
   "codemirror_mode": {
    "name": "ipython",
    "version": 3
   },
   "file_extension": ".py",
   "mimetype": "text/x-python",
   "name": "python",
   "nbconvert_exporter": "python",
   "pygments_lexer": "ipython3",
   "version": "3.9.20"
  }
 },
 "nbformat": 4,
 "nbformat_minor": 5
}
