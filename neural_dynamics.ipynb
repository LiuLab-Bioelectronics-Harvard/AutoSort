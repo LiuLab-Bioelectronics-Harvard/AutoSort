{
 "cells": [
  {
   "cell_type": "markdown",
   "id": "02482ead",
   "metadata": {},
   "source": [
    "# Decode neural dynamics"
   ]
  },
  {
   "cell_type": "markdown",
   "id": "90cb8fd6",
   "metadata": {},
   "source": [
    "Estimated time and memory for the code: xx mins, xx GB"
   ]
  },
  {
   "cell_type": "code",
   "execution_count": null,
   "id": "8a8e19df",
   "metadata": {
    "vscode": {
     "languageId": "plaintext"
    }
   },
   "outputs": [],
   "source": []
  }
 ],
 "metadata": {
  "kernelspec": {
   "display_name": "Python 3 (ipykernel)",
   "language": "python",
   "name": "python3"
  },
  "language_info": {
   "codemirror_mode": {
    "name": "ipython",
    "version": 3
   },
   "file_extension": ".py",
   "mimetype": "text/x-python",
   "name": "python",
   "nbconvert_exporter": "python",
   "pygments_lexer": "ipython3",
   "version": "3.7.13"
  }
 },
 "nbformat": 4,
 "nbformat_minor": 5
}
