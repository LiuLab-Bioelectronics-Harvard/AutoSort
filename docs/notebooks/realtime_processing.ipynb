{
 "cells": [
  {
   "cell_type": "markdown",
   "id": "02482ead",
   "metadata": {},
   "source": [
    "# Apply AutoSort in real-time"
   ]
  },
  {
   "cell_type": "markdown",
   "id": "8a8e19df",
   "metadata": {},
   "source": [
    "With AutoSort, real-time spike sorting and neural dynamics decoding can be performed while the electrophysiological data in recording through Intan system."
   ]
  },
  {
   "cell_type": "markdown",
   "id": "f2825463",
   "metadata": {},
   "source": [
    "To achieve this, first go over `Start with AutoSort` section."
   ]
  },
  {
   "cell_type": "markdown",
   "id": "a4520191",
   "metadata": {},
   "source": [
    "Next, use the trained AutoSort model for real-time analysis. We provide a function `read_data_online` to achieve this. The following code need be run in .py file."
   ]
  },
  {
   "cell_type": "code",
   "execution_count": 3,
   "id": "292805ed",
   "metadata": {},
   "outputs": [],
   "source": [
    "import os\n",
    "from autosort_neuron import *\n",
    "\n",
    "\n",
    "if __name__ == '__main__':\n",
    "    path='path_to_recording_data_folder/'\n",
    "\n",
    "    ### load sensor positions\n",
    "    # sensor_positions = ...\n",
    "    # extremum_channels_ids_pth='./processed_data/Ephys_concat_0310_0315/mountainsort/extremum_channels_ids.csv'\n",
    "\n",
    "    ### load model\n",
    "    args=config()\n",
    "    args.day_id_str=['0310'] ### day id of the training data\n",
    "    args.cluster_path='./AutoSort_data/' ### path of input data\n",
    "    args.set_time=0  ### set the first element as training data\n",
    "    args.group=np.arange(30)  ### all electrodes\n",
    "    args.samplepoints=30 ### 30 points for each waveform\n",
    "    args.mode='load'    \n",
    "    trained_AutoSort_model_path = \"path_to_model_folder/\"\n",
    "    device='cuda:0' if torch.cuda.is_available() else 'cpu'\n",
    "    autosort_model = run(args)\n",
    "    \n",
    "    dir_list = os.listdir(path)\n",
    "    for i in dir_list:\n",
    "        print(\"Files and directories in '\", path, \"' :\")\n",
    "        print(i)\n",
    "        data, header = read_data_online(path+i,autosort_model, sensor_positions, extremum_channels_ids_pth)\n"
   ]
  }
 ],
 "metadata": {
  "kernelspec": {
   "display_name": "autosort_new",
   "language": "python",
   "name": "python3"
  },
  "language_info": {
   "codemirror_mode": {
    "name": "ipython",
    "version": 3
   },
   "file_extension": ".py",
   "mimetype": "text/x-python",
   "name": "python",
   "nbconvert_exporter": "python",
   "pygments_lexer": "ipython3",
   "version": "3.9.20"
  }
 },
 "nbformat": 4,
 "nbformat_minor": 5
}
