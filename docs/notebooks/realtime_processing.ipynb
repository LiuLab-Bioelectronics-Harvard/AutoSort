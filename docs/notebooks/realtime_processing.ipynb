{
 "cells": [
  {
   "cell_type": "markdown",
   "id": "02482ead",
   "metadata": {},
   "source": [
    "# Apply AutoSort in real-time"
   ]
  },
  {
   "cell_type": "markdown",
   "id": "8a8e19df",
   "metadata": {},
   "source": [
    "Spike sorting and neural dynamics decoding can be performed in real-time with AutoSort while the electrophysiological data in recording in Intan system.\n",
    "\n",
    "To achieve this, first go through `Start with AutoSort` section with initial stage recordings.\n",
    "\n",
    "Next, real-time analysis can be run with python file. We provide a online_processing.py to achieve this."
   ]
  },
  {
   "cell_type": "code",
   "execution_count": null,
   "id": "292805ed",
   "metadata": {},
   "outputs": [],
   "source": []
  }
 ],
 "metadata": {
  "kernelspec": {
   "display_name": "Python 3 (ipykernel)",
   "language": "python",
   "name": "python3"
  },
  "language_info": {
   "codemirror_mode": {
    "name": "ipython",
    "version": 3
   },
   "file_extension": ".py",
   "mimetype": "text/x-python",
   "name": "python",
   "nbconvert_exporter": "python",
   "pygments_lexer": "ipython3",
   "version": "3.9.20"
  }
 },
 "nbformat": 4,
 "nbformat_minor": 5
}
